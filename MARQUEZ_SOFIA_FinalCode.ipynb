{
  "cells": [
    {
      "cell_type": "code",
      "execution_count": null,
      "metadata": {
        "id": "xaz39GbFmzmK"
      },
      "outputs": [],
      "source": [
        "! rm -rf sample_data\n",
        "\n",
        "! pip install gensim"
      ]
    },
    {
      "cell_type": "code",
      "source": [
        "import gensim.downloader as api\n",
        "# Load the vector model \n",
        "GoogleWord2Vec = api.load('word2vec-google-news-300')"
      ],
      "metadata": {
        "id": "xDo6G25RizkT",
        "colab": {
          "base_uri": "https://localhost:8080/"
        },
        "outputId": "c791d03e-0ca7-4378-e00f-2bd3b97809f2"
      },
      "execution_count": null,
      "outputs": [
        {
          "output_type": "stream",
          "name": "stdout",
          "text": [
            "[=================================================-] 99.8% 1659.6/1662.8MB downloaded\n"
          ]
        }
      ]
    },
    {
      "cell_type": "code",
      "source": [
        "import gensim\n",
        "ConceptNetWord2Vec = gensim.models.KeyedVectors.load_word2vec_format('numberbatch-en-19.08.txt.gz', binary=False)\n",
        "\n",
        "# Get the word vector for a specific word\n",
        "word_vector = ConceptNetWord2Vec['cats']\n",
        "\n",
        "# Find similar words\n",
        "similar_words = ConceptNetWord2Vec.most_similar('dogs')\n",
        "print(similar_words)"
      ],
      "metadata": {
        "id": "MWsthT9T4rZi",
        "colab": {
          "base_uri": "https://localhost:8080/"
        },
        "outputId": "15a2cbf9-b362-41c5-f71e-b6ede0b1b315"
      },
      "execution_count": null,
      "outputs": [
        {
          "output_type": "stream",
          "name": "stdout",
          "text": [
            "[('smell_fear', 0.9649326801300049), ('sense_fear', 0.9622007608413696), ('guide_blind', 0.9443532228469849), ('smell_food', 0.9429340362548828), ('hunt_foxes', 0.938109815120697), ('wear_sweater', 0.9220687747001648), ('sense_danger', 0.9180392026901245), ('dog', 0.8874358534812927), ('canis_familiaris', 0.8844647407531738), ('playing_dead', 0.8844647407531738)]\n"
          ]
        }
      ]
    },
    {
      "cell_type": "code",
      "execution_count": null,
      "metadata": {
        "id": "x91Ib18atCkY",
        "colab": {
          "base_uri": "https://localhost:8080/"
        },
        "outputId": "43784a83-c6a3-4687-d80e-a500a6647b38"
      },
      "outputs": [
        {
          "output_type": "execute_result",
          "data": {
            "text/plain": [
              "['picnics', 'picnic_lunch', 'potluck_picnic', 'picnic_supper', 'picnicking']"
            ]
          },
          "metadata": {},
          "execution_count": 4
        }
      ],
      "source": [
        "def find_top5(vectors, word):\n",
        "    similar = vectors.most_similar(positive=[word], topn=10)\n",
        "    top5 = []\n",
        "    for w, sim in similar:\n",
        "      if w.lower() != word:\n",
        "        top5.append(w)\n",
        "    return top5[:5]\n",
        "\n",
        "find_top5(GoogleWord2Vec, \"picnic\")"
      ]
    },
    {
      "cell_type": "code",
      "execution_count": null,
      "metadata": {
        "id": "MhI_K2qStXll",
        "colab": {
          "base_uri": "https://localhost:8080/",
          "height": 35
        },
        "outputId": "cdfe6bb4-6c0e-4ac3-f609-04773e130c7e"
      },
      "outputs": [
        {
          "output_type": "execute_result",
          "data": {
            "text/plain": [
              "'tissue'"
            ],
            "application/vnd.google.colaboratory.intrinsic+json": {
              "type": "string"
            }
          },
          "metadata": {},
          "execution_count": 5
        }
      ],
      "source": [
        "def find_other(vectors, words):\n",
        "    other = vectors.doesnt_match(words)\n",
        "    return other\n",
        "\n",
        "find_other(GoogleWord2Vec, ['tissue', 'papyrus', 'manila', 'newsprint', 'parchment', 'gazette'])"
      ]
    },
    {
      "cell_type": "code",
      "execution_count": null,
      "metadata": {
        "id": "LUwRVhNxum7F",
        "colab": {
          "base_uri": "https://localhost:8080/",
          "height": 35
        },
        "outputId": "eefc1271-af88-41d6-90c4-4c118a32a9f1"
      },
      "outputs": [
        {
          "output_type": "execute_result",
          "data": {
            "text/plain": [
              "'queen'"
            ],
            "application/vnd.google.colaboratory.intrinsic+json": {
              "type": "string"
            }
          },
          "metadata": {},
          "execution_count": 6
        }
      ],
      "source": [
        "def solve_analogy(vectors, word1, word2, word3):\n",
        "    # Returns word4 such that word1:word2::word3:word4\n",
        "    similar = vectors.most_similar( positive=[vectors[word2], vectors[word3]], negative=[vectors[word1]],topn=10) \n",
        "    for w, sim in similar:\n",
        "      if w.lower() not in [word1, word2, word3]:\n",
        "        word4 = w\n",
        "        return word4\n",
        "\n",
        "solve_analogy(GoogleWord2Vec, \"man\", \"king\", \"woman\")"
      ]
    },
    {
      "cell_type": "markdown",
      "source": [
        "#Polysemy"
      ],
      "metadata": {
        "id": "YE6nHkiAm7Lg"
      }
    },
    {
      "cell_type": "markdown",
      "source": [
        "Bank:\n",
        "\n",
        "* Financial institution (e.g., \"I need to go to the bank to deposit my paycheck.\")\n",
        "* The side of a river (e.g., \"We sat on the bank of the river and enjoyed the view.\") \\\\\n",
        "\n",
        "Bat:\n",
        "\n",
        "* Nocturnal flying mammal (e.g., \"I saw a bat flying around the park last night.\")\n",
        "* Sports equipment used in baseball (e.g., \"He swung the bat and hit a home run.\") \\\\\n",
        "\n",
        "Book:\n",
        "\n",
        "* Physical object with pages (e.g., \"I love reading a good book.\")\n",
        "* To reserve or make an appointment (e.g., \"I booked a table at the restaurant for tonight.\") \\\\\n",
        "\n",
        "Mouse:\n",
        "\n",
        "* Small rodent (e.g., \"I saw a mouse running across the floor.\")\n",
        "* Computer input device (e.g., \"Move the cursor with the mouse.\") \\\\\n",
        "\n",
        "Crane:\n",
        "\n",
        "* Large bird with long legs and neck (e.g., \"We spotted a crane in the wetlands.\")\n",
        "* Machine used for lifting heavy objects (e.g., \"The construction site had a crane for moving materials.\")\n",
        "\n",
        "Pitch:\n",
        "\n",
        "* Sticky substance (e.g., \"The tar on the road had a sticky pitch.\")\n",
        "* The highness or lowness of a musical tone (e.g., \"Her singing voice has a beautiful pitch.\")\n",
        "\n",
        "Rock:\n",
        "\n",
        "* Solid mineral substance (e.g., \"She found a shiny rock on the beach.\")\n",
        "* A genre of music (e.g., \"I enjoy listening to classic rock.\")\n",
        "\n",
        "Seal:\n",
        "\n",
        "* Aquatic mammal (e.g., \"We saw seals swimming in the ocean.\")\n",
        "* A device for closing or securing something (e.g., \"Please seal the envelope before mailing it.\")\n",
        "\n",
        "..."
      ],
      "metadata": {
        "id": "B8B7iv2An9FY"
      }
    },
    {
      "cell_type": "code",
      "source": [
        "polysemy_words = ['bank', 'bat', 'book', 'mouse', 'crane', 'pitch', 'rock', 'seal']\n",
        "\n",
        "for word in polysemy_words:\n",
        "  print('Word: ', word)\n",
        "  print(GoogleWord2Vec.most_similar(positive=[word], topn=5))"
      ],
      "metadata": {
        "id": "fgCoJWS7m3NH",
        "colab": {
          "base_uri": "https://localhost:8080/"
        },
        "outputId": "de7d5e72-2e46-452e-ec5a-69021b87f9e9"
      },
      "execution_count": null,
      "outputs": [
        {
          "output_type": "stream",
          "name": "stdout",
          "text": [
            "Word:  bank\n",
            "[('banks', 0.7440759539604187), ('banking', 0.690161406993866), ('Bank', 0.6698698401451111), ('lender', 0.6342284679412842), ('banker', 0.6092953085899353)]\n",
            "Word:  bat\n",
            "[('bats', 0.767751932144165), ('batting', 0.6346984505653381), ('Pinch_hitter_Brayan_Pena', 0.6011940836906433), ('batsman', 0.5579798817634583), ('batted', 0.5542199611663818)]\n",
            "Word:  book\n",
            "[('tome', 0.7485830783843994), ('books', 0.7379177808761597), ('memoir', 0.7302926778793335), ('paperback_edition', 0.6868364214897156), ('autobiography', 0.6741527318954468)]\n",
            "Word:  mouse\n",
            "[('Logitech_MX_Revolution', 0.6175230741500854), ('Razer_Mamba', 0.5994570851325989), ('mice', 0.5896884799003601), ('cordless_laser', 0.5652030110359192), ('VX_Nano', 0.5619357824325562)]\n",
            "Word:  crane\n",
            "[('cranes', 0.7692900896072388), ('scaffolding', 0.6770226955413818), ('cherry_picker', 0.6515053510665894), ('hydraulic_crane', 0.6279746890068054), ('girder', 0.623549222946167)]\n",
            "Word:  pitch\n",
            "[('pitches', 0.7401652932167053), ('backdoor_slider', 0.5972762107849121), ('fastball', 0.5737808346748352), ('curveball', 0.5543882846832275), ('hanging_slider', 0.5523896217346191)]\n",
            "Word:  rock\n",
            "[('rock_n_roll', 0.6322391629219055), ('rockers', 0.6205432415008545), ('punk_emo', 0.6118139028549194), ('punk_rock', 0.6113223433494568), ('alt_rock', 0.6063249111175537)]\n",
            "Word:  seal\n",
            "[('sealing', 0.7076655626296997), ('seals', 0.7049301266670227), ('sealed', 0.6966602802276611), ('Clifford_Whall_director', 0.519477903842926), ('Sealing', 0.49432969093322754)]\n"
          ]
        }
      ]
    },
    {
      "cell_type": "code",
      "source": [
        "# This line of code was rerun for each analogy we constructed\n",
        "solve_analogy(GoogleWord2Vec, \"man\", \"king\", \"woman\")"
      ],
      "metadata": {
        "id": "pzsaHKqMzPQ3",
        "colab": {
          "base_uri": "https://localhost:8080/"
        },
        "outputId": "0784bc7f-f56c-4ec8-f54b-ee8c732e653f"
      },
      "execution_count": null,
      "outputs": [
        {
          "output_type": "stream",
          "name": "stdout",
          "text": [
            "0.44551823\n",
            "0.29154542\n"
          ]
        }
      ]
    },
    {
      "cell_type": "markdown",
      "source": [
        "#Top 5 for each synonym "
      ],
      "metadata": {
        "id": "xkZwip-Q3xen"
      }
    },
    {
      "cell_type": "code",
      "source": [
        "res = find_top5(GoogleWord2Vec, \"stick\")\n",
        "stri = res[0] + ', ' + res[1] + ', ' + res[2] + ', ' + res[3] + ', ' + res[4]\n",
        "stri"
      ],
      "metadata": {
        "colab": {
          "base_uri": "https://localhost:8080/",
          "height": 35
        },
        "id": "0QOnzpXeAgdV",
        "outputId": "85fc7c6e-1f4f-483b-b1ab-339c54f49ef5"
      },
      "execution_count": null,
      "outputs": [
        {
          "output_type": "execute_result",
          "data": {
            "text/plain": [
              "'sticks, sticking, stuck, Sticking, Hovav_Shacham'"
            ],
            "application/vnd.google.colaboratory.intrinsic+json": {
              "type": "string"
            }
          },
          "metadata": {},
          "execution_count": 151
        }
      ]
    },
    {
      "cell_type": "code",
      "source": [
        "word_pairs = []\n",
        "scores = []\n",
        "with open('SynonymousDataSet.txt') as fle:\n",
        "  for line in fle:\n",
        "    text = line[3:]\n",
        "    words = text.split(' - ')\n",
        "    word1 = words[0].strip().lower()\n",
        "    word2 = words[1].strip().lower()\n",
        "    word_pairs.append((word1, word2))\n",
        "    similarity = GoogleWord2Vec.similarity(word1, word2)\n",
        "    scores.append(similarity)"
      ],
      "metadata": {
        "id": "2WX7VO0D3z6e"
      },
      "execution_count": null,
      "outputs": []
    },
    {
      "cell_type": "code",
      "source": [
        "for i, score in enumerate(scores):\n",
        "  if score < 0.3:\n",
        "    print(word_pairs[i])"
      ],
      "metadata": {
        "colab": {
          "base_uri": "https://localhost:8080/"
        },
        "id": "bpwv2NMX5Z_s",
        "outputId": "ddbdf7b1-37f5-4560-826c-312bd95c85d4"
      },
      "execution_count": null,
      "outputs": [
        {
          "output_type": "stream",
          "name": "stdout",
          "text": [
            "('kind', 'generous')\n",
            "('happy', 'content')\n"
          ]
        }
      ]
    },
    {
      "cell_type": "code",
      "source": [
        "import matplotlib.pyplot as plt\n",
        "\n",
        "plt.hist(scores, bins = [0.1*i for i in range(11)], align = 'mid',  edgecolor='black', linewidth=1.2)\n",
        "plt.xticks([0.1*i for i in range(11)])\n",
        "plt.xlabel(\"Similarity Score\")\n",
        "plt.ylabel(\"Number of Pairs\")\n",
        "plt.title(\"Count of Pairs Across Range of Similarity Scores\")\n",
        "plt.show()"
      ],
      "metadata": {
        "colab": {
          "base_uri": "https://localhost:8080/",
          "height": 472
        },
        "id": "YHdTOMVl5A2S",
        "outputId": "2608c61d-a9e8-4ab3-e62d-0faaa9bdf9ad"
      },
      "execution_count": null,
      "outputs": [
        {
          "output_type": "display_data",
          "data": {
            "text/plain": [
              "<Figure size 640x480 with 1 Axes>"
            ],
            "image/png": "[encoded data removed]"
          },
          "metadata": {}
        }
      ]
    }
  ],
  "metadata": {
    "colab": {
      "provenance": []
    },
    "kernelspec": {
      "display_name": "Python 3 (ipykernel)",
      "language": "python",
      "name": "python3"
    },
    "language_info": {
      "codemirror_mode": {
        "name": "ipython",
        "version": 3
      },
      "file_extension": ".py",
      "mimetype": "text/x-python",
      "name": "python",
      "nbconvert_exporter": "python",
      "pygments_lexer": "ipython3",
      "version": "3.7.12"
    }
  },
  "nbformat": 4,
  "nbformat_minor": 0
}