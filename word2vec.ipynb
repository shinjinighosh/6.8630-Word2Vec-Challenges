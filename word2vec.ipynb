{
 "cells": [
  {
   "cell_type": "markdown",
   "metadata": {
    "id": "KbEaJ2scm566"
   },
   "source": [
    "# Vector Semantics\n",
    "\n",
    "We have adapted this from lab 5."
   ]
  },
  {
   "cell_type": "markdown",
   "metadata": {
    "id": "uYMLi1P_nz77"
   },
   "source": [
    "### Introduction to word2vec\n",
    "\n",
    "Word2vec is a very cool word embedding method that was developed by [Thomas Mikolov et al.](https://aclanthology.org/N13-1090/) Essentially, Word2Vec encodes words and their semantic content as high-dimensional vectors. One of the noteworthy things about the method is that it can be used to solve word analogy problems like:\n",
    "\n",
    "$$ \\textrm{man is to king as woman is to [blank]} $$\n",
    "\n",
    "The missing word of the analogy is found by taking the vectors representing king, man and woman and performing some vector arithmetic to produce a vector that is close to the expected answer:\n",
    "\n",
    "$$ king - man + woman \\approx queen $$\n",
    "\n",
    "In addition to solving this sort of analogy problem, the same sort of vector arithmetic was used with word2vec embeddings to find relationships between pairs of words like the following:\n",
    "\n",
    "<img src=\"https://computational-linguistics-class.org/assets/img/word2vec_word_pair_relationships.jpg\" width=\"350\" height=\"350\">\n",
    "\n",
    "For an introduction to word embedings and specifically word2vec see chapters 6.1-6.3 and 6.8, respectively, of Jurafsky & Martin (on the Canvas website). \n",
    "\n",
    "Similarity between two word embedings is computed using cosine similarity: \n",
    "$$ cos(\\textbf{v},\\textbf{w}) = \\frac{\\textbf{v} \\cdot \\textbf{w}}{\\|\\textbf{v}\\| \\|\\textbf{w}\\|} $$\n",
    "Where $\\textbf{v}$ and $\\textbf{w}$ are the vector representations of the two words to compare. \n",
    "See chapter 6.8 in Jurafsky & Martin for a more in-depth explination of cosine similarity. \n"
   ]
  },
  {
   "cell_type": "markdown",
   "metadata": {
    "id": "qgIsTZ79nn5V"
   },
   "source": [
    "## Part 1: Exploring Analogies and Other Word Pair Relationships\n",
    "\n",
    "In these first questions of the assignment, you will get familiar with the [Gensim](https://radimrehurek.com/gensim/intro.html) library.\n",
    "You will use Gensim to load a vector model trained using word2vec, and use it to manipulate and analyze the vectors. \n",
    "\n",
    "First install the Gensim library: `$ pip install gensim` (or see [installation instructions](https://radimrehurek.com/gensim/intro.html)). "
   ]
  },
  {
   "cell_type": "code",
   "execution_count": 2,
   "metadata": {
    "id": "xaz39GbFmzmK"
   },
   "outputs": [
    {
     "name": "stdout",
     "output_type": "stream",
     "text": [
      "Defaulting to user installation because normal site-packages is not writeable\n",
      "Requirement already satisfied: gensim in /home/shinjini/.local/lib/python3.6/site-packages (4.2.0)\n",
      "Requirement already satisfied: smart-open>=1.8.1 in /home/shinjini/.local/lib/python3.6/site-packages (from gensim) (6.3.0)\n",
      "Requirement already satisfied: scipy>=0.18.1 in /home/shinjini/.local/lib/python3.6/site-packages (from gensim) (1.5.4)\n",
      "Requirement already satisfied: numpy>=1.17.0 in /home/shinjini/.local/lib/python3.6/site-packages (from gensim) (1.19.0)\n"
     ]
    }
   ],
   "source": [
    "! rm -rf sample_data\n",
    "\n",
    "! pip install gensim"
   ]
  },
  {
   "cell_type": "markdown",
   "metadata": {
    "id": "nQphr2YrMAeC"
   },
   "source": [
    "Now you can load the the vector model and perform queries. NOTE: The word2vec model is trained on the Google News dataset. It is quite large and will take some time to download."
   ]
  },
  {
   "cell_type": "code",
   "execution_count": 3,
   "metadata": {
    "id": "xDo6G25RizkT"
   },
   "outputs": [],
   "source": [
    "import gensim.downloader as api\n",
    "# Load the vector model \n",
    "vectors = api.load('word2vec-google-news-300')"
   ]
  },
  {
   "cell_type": "markdown",
   "metadata": {
    "id": "3RyjTpGQMJpp"
   },
   "source": [
    "For instance, you can query the distance of `cat` and `dog`. "
   ]
  },
  {
   "cell_type": "code",
   "execution_count": 4,
   "metadata": {
    "id": "6KFLpk6-rfVJ"
   },
   "outputs": [
    {
     "data": {
      "text/plain": [
       "0.76094574"
      ]
     },
     "execution_count": 4,
     "metadata": {},
     "output_type": "execute_result"
    }
   ],
   "source": [
    "vectors.similarity(\"cat\", \"dog\")"
   ]
  },
  {
   "cell_type": "markdown",
   "metadata": {
    "id": "7e1xiINmsU6C"
   },
   "source": [
    "The following questions are designed to familiarize you with the Gensim word2vec package and get you thinking about what type of semantic information word embeddings can encode. We recommend reading the [Word2Vec Model tutorial](https://radimrehurek.com/gensim/auto_examples/tutorials/run_word2vec.html#sphx-glr-auto-examples-tutorials-run-word2vec-py) of the Gensim documentation. \n"
   ]
  },
  {
   "cell_type": "markdown",
   "metadata": {
    "id": "6oaJRCUNspNr"
   },
   "source": [
    "### 1.1: What is the dimensionality of these word embeddings? \n",
    "\n",
    "Provide an integer answer. "
   ]
  },
  {
   "cell_type": "code",
   "execution_count": 5,
   "metadata": {
    "id": "lbeWpWkYsxpr"
   },
   "outputs": [
    {
     "data": {
      "text/plain": [
       "300"
      ]
     },
     "execution_count": 5,
     "metadata": {},
     "output_type": "execute_result"
    }
   ],
   "source": [
    "def compute_dimensionality(vectors):\n",
    "    dim = vectors.vector_size\n",
    "    # TODO your code here\n",
    "    return dim\n",
    "\n",
    "compute_dimensionality(vectors)"
   ]
  },
  {
   "cell_type": "markdown",
   "metadata": {
    "id": "wcIefxHos9hW"
   },
   "source": [
    "### 1.2: What are the top-5 most similar words to `picnic` (not including `picnic` itself)? \n",
    "\n",
    "Return an array of strings."
   ]
  },
  {
   "cell_type": "code",
   "execution_count": 6,
   "metadata": {
    "id": "x91Ib18atCkY"
   },
   "outputs": [
    {
     "data": {
      "text/plain": [
       "['picnics', 'picnic_lunch', 'Picnic', 'potluck_picnic', 'picnic_supper']"
      ]
     },
     "execution_count": 6,
     "metadata": {},
     "output_type": "execute_result"
    }
   ],
   "source": [
    "def find_top5(vectors, word):\n",
    "    top5 = [w[0] for w in vectors.most_similar(word, topn=5)]\n",
    "    # TODO your code here\n",
    "    return top5\n",
    "\n",
    "find_top5(vectors, \"picnic\")"
   ]
  },
  {
   "cell_type": "markdown",
   "metadata": {
    "id": "fPW-CiJhtTnZ"
   },
   "source": [
    "### 1.3: According to the word embeddings, which of these words is not like the others? \n",
    "`['tissue', 'papyrus', 'manila', 'newsprint', 'parchment', 'gazette']`\n"
   ]
  },
  {
   "cell_type": "code",
   "execution_count": 7,
   "metadata": {
    "id": "MhI_K2qStXll"
   },
   "outputs": [
    {
     "data": {
      "text/plain": [
       "'tissue'"
      ]
     },
     "execution_count": 7,
     "metadata": {},
     "output_type": "execute_result"
    }
   ],
   "source": [
    "def find_other(vectors, words):\n",
    "    other = \"\"\n",
    "    similarities = []\n",
    "    for word1 in words:\n",
    "        other_words = [w for w in words if w != word1]\n",
    "        # calculate the similarity between word1 and the other words\n",
    "        sim = sum(vectors.similarity(word1, w) for w in other_words)\n",
    "        similarities.append(sim)\n",
    "    other = words[similarities.index(min(similarities))]\n",
    "    return other\n",
    "\n",
    "find_other(vectors, ['tissue', 'papyrus', 'manila', 'newsprint', 'parchment', 'gazette'])"
   ]
  },
  {
   "cell_type": "markdown",
   "metadata": {
    "id": "E3ZMC-e1tr0X"
   },
   "source": [
    "### 1.4: Solve the analogy: `man is to king as woman is to X?`\n",
    "\n",
    "HINT: Think about the analogy in terms of vector arithmetic and cosine similatiry."
   ]
  },
  {
   "cell_type": "code",
   "execution_count": 11,
   "metadata": {
    "id": "LUwRVhNxum7F"
   },
   "outputs": [
    {
     "data": {
      "text/plain": [
       "'kings'"
      ]
     },
     "execution_count": 11,
     "metadata": {},
     "output_type": "execute_result"
    }
   ],
   "source": [
    "def solve_analogy(vectors, word1, word2, word3):\n",
    "    # Returns word4 such that word1:word2::word3:word4\n",
    "    word4 = \"\"\n",
    "    # TODO your code here            \n",
    "    word4 = vectors.most_similar(positive=[word1, word2], negative=[word3], topn=1)\n",
    "    return word4[0][0]\n",
    "\n",
    "solve_analogy(vectors, \"man\", \"king\", \"woman\")"
   ]
  },
  {
   "cell_type": "markdown",
   "metadata": {
    "id": "cCAF3YuX56Yw"
   },
   "source": [
    "### 1.5: Come up with more analogies (another triple of words), and solve your new analogy with your function above. \n",
    "\n",
    "Find an analogy where the output makes sense and think about why we can capture such relation between words using an unsupervised algorithm. \n",
    "Where does the information come from? "
   ]
  },
  {
   "cell_type": "code",
   "execution_count": 13,
   "metadata": {
    "id": "9hZ8hn686roZ"
   },
   "outputs": [
    {
     "data": {
      "text/plain": [
       "'actress'"
      ]
     },
     "execution_count": 13,
     "metadata": {},
     "output_type": "execute_result"
    }
   ],
   "source": [
    "word1 = \"man\"\n",
    "word2 = \"actor\"\n",
    "word3 = \"woman\"\n",
    "\n",
    "solve_analogy(vectors, word1, word2, word3)"
   ]
  },
  {
   "cell_type": "markdown",
   "metadata": {
    "id": "a1X9GCpjRNga"
   },
   "source": [
    "This makes sense -- the \"feminine\" form of \"actor\" is \"actress\"."
   ]
  },
  {
   "cell_type": "markdown",
   "metadata": {
    "id": "CxhkNthYRGea"
   },
   "source": [
    "Find an analogy where the output does not make sense and think about a hypothesis for why the algorithm fails on this case."
   ]
  },
  {
   "cell_type": "code",
   "execution_count": 12,
   "metadata": {
    "id": "9EwhsF5cRLfI"
   },
   "outputs": [
    {
     "data": {
      "text/plain": [
       "'gynecologist'"
      ]
     },
     "execution_count": 12,
     "metadata": {},
     "output_type": "execute_result"
    }
   ],
   "source": [
    "word1 = \"man\"\n",
    "word2 = \"doctor\"\n",
    "word3 = \"woman\"\n",
    "\n",
    "solve_analogy(vectors, word1, word2, word3)"
   ]
  },
  {
   "cell_type": "markdown",
   "metadata": {
    "id": "lEOGcSwpRRdC"
   },
   "source": [
    "I found it interesting how a gynecologist is not exactly a \"female doctor\" but a doctor who tends to women/womanly functions. I presume this is because \"doctoress\" is not very common."
   ]
  },
  {
   "cell_type": "markdown",
   "metadata": {
    "id": "vscBVxPAQ6XY"
   },
   "source": [
    "For a critical view of wor2vec, see [Linzen 2016](https://aclanthology.org/W16-2503.pdf)"
   ]
  },
  {
   "cell_type": "markdown",
   "metadata": {
    "id": "RJQrmpay6sAC"
   },
   "source": [
    "## Part 2: Human Judgements vs. word2vec\n",
    "\n",
    "In this section we will use the [SimLex-999](https://fh295.github.io/simlex.html) dataset to comapre human judgments of similar to the vector similarities. \n",
    "We provide you with a function `human_v_model` that :\n",
    "1. Takes `word1`, `word2`, and `SimLex` columns from the `SimLex-999.txt` dataset\n",
    "2. Computes the similarity between word1 and word2 using `GoogleNews-vectors-negative300.magnitude` from Part 1. \n",
    "3. Displays correlation for human judgments of similarity to the vector similarities using [Kendall's Tau](https://en.wikipedia.org/wiki/Kendall_rank_correlation_coefficient).\n",
    "\n",
    "Run the `human_v_model` function and answer the following questions."
   ]
  },
  {
   "cell_type": "code",
   "execution_count": 14,
   "metadata": {
    "id": "JHAs78MRAl82"
   },
   "outputs": [
    {
     "name": "stdout",
     "output_type": "stream",
     "text": [
      "Downloading...\n",
      "From: https://drive.google.com/uc?id=1pOXBq_0EH83HUywbW1y9HKzszam6SNQz\n",
      "To: /home/shinjini/Shinjini/MIT/Courses/Spring 2023/6.8630/Lab 5/SimLex-999.zip\n",
      "100%|██████████████████████████████████████| 16.8k/16.8k [00:00<00:00, 13.9MB/s]\n",
      "Archive:  SimLex-999.zip\n",
      "   creating: SimLex-999/\n",
      "  inflating: SimLex-999/README.txt   \n",
      "  inflating: SimLex-999/SimLex-999.txt  \n"
     ]
    }
   ],
   "source": [
    "# Download the SimLex-999.txt dataset\n",
    "! gdown 1pOXBq_0EH83HUywbW1y9HKzszam6SNQz && unzip SimLex-999.zip && rm SimLex-999.zip "
   ]
  },
  {
   "cell_type": "code",
   "execution_count": 15,
   "metadata": {
    "id": "SzFBmGvy_zb0"
   },
   "outputs": [
    {
     "name": "stdout",
     "output_type": "stream",
     "text": [
      "old,new,1.58,0.2228\n",
      "smart,intelligent,9.2,0.6495\n",
      "hard,difficult,8.77,0.6026\n",
      "happy,cheerful,9.55,0.3838\n",
      "hard,easy,0.95,0.4710\n",
      "fast,rapid,8.75,0.4767\n",
      "happy,glad,9.17,0.7409\n",
      "short,long,1.23,0.5768\n",
      "stupid,dumb,9.58,0.8173\n",
      "weird,strange,8.93,0.8165\n",
      "wide,narrow,1.03,0.4576\n",
      "bad,awful,8.42,0.5527\n",
      "easy,difficult,0.58,0.5891\n",
      "bad,terrible,7.78,0.6829\n",
      "hard,simple,1.38,0.2591\n",
      "smart,dumb,0.55,0.5793\n",
      "insane,crazy,9.57,0.7339\n",
      "happy,mad,0.95,0.3920\n",
      "large,huge,9.47,0.6589\n",
      "hard,tough,8.05,0.6343\n",
      "new,fresh,6.83,0.4446\n",
      "sharp,dull,0.6,0.3004\n",
      "quick,rapid,9.7,0.4978\n",
      "dumb,foolish,6.67,0.6150\n",
      "wonderful,terrific,8.63,0.7421\n",
      "strange,odd,9.02,0.7307\n",
      "happy,angry,1.28,0.3749\n",
      "narrow,broad,1.18,0.4576\n",
      "simple,easy,9.4,0.5990\n",
      "old,fresh,0.87,0.1422\n",
      "apparent,obvious,8.47,0.7072\n",
      "inexpensive,cheap,8.72,0.7010\n",
      "nice,generous,5.0,0.3341\n",
      "weird,normal,0.72,0.2771\n",
      "weird,odd,9.2,0.6382\n",
      "bad,immoral,7.62,0.3253\n",
      "sad,funny,0.95,0.4880\n",
      "wonderful,great,8.05,0.7648\n",
      "guilty,ashamed,6.38,0.4027\n",
      "beautiful,wonderful,6.5,0.6854\n",
      "confident,sure,8.27,0.4793\n",
      "dumb,dense,7.27,0.1498\n",
      "large,big,9.55,0.5561\n",
      "nice,cruel,0.67,0.1604\n",
      "impatient,anxious,6.03,0.6139\n",
      "big,broad,6.73,0.2023\n",
      "strong,proud,3.17,0.2946\n",
      "unnecessary,necessary,0.63,0.4277\n",
      "restless,young,1.6,0.3110\n",
      "dumb,intelligent,0.75,0.4079\n",
      "bad,great,0.35,0.3929\n",
      "difficult,simple,0.87,0.3057\n",
      "necessary,important,7.37,0.4115\n",
      "bad,terrific,0.65,0.3811\n",
      "mad,glad,1.45,0.3336\n",
      "honest,guilty,1.18,0.2091\n",
      "easy,tough,0.52,0.4555\n",
      "easy,flexible,4.1,0.3088\n",
      "certain,sure,8.42,0.3394\n",
      "essential,necessary,8.97,0.6255\n",
      "different,normal,1.08,0.3051\n",
      "sly,clever,7.25,0.5969\n",
      "crucial,important,8.82,0.7076\n",
      "harsh,cruel,8.18,0.5338\n",
      "childish,foolish,5.5,0.5438\n",
      "scarce,rare,9.17,0.3238\n",
      "friendly,generous,5.9,0.3527\n",
      "fragile,frigid,2.38,0.1910\n",
      "long,narrow,3.57,0.3143\n",
      "big,heavy,6.18,0.3410\n",
      "rough,frigid,2.47,0.3032\n",
      "bizarre,strange,9.37,0.7379\n",
      "illegal,immoral,4.28,0.5182\n",
      "bad,guilty,4.2,0.2143\n",
      "modern,ancient,0.73,0.4892\n",
      "new,ancient,0.23,0.1657\n",
      "dull,funny,0.55,0.4304\n",
      "happy,young,2.0,0.2033\n",
      "easy,big,1.12,0.3018\n",
      "great,awful,1.17,0.4325\n",
      "tiny,huge,0.6,0.3762\n",
      "polite,proper,7.63,0.2125\n",
      "modest,ashamed,2.65,0.1020\n",
      "exotic,rare,8.05,0.2968\n",
      "dumb,clever,1.17,0.4760\n",
      "delightful,wonderful,8.65,0.6575\n",
      "noticeable,obvious,8.48,0.5355\n",
      "afraid,anxious,5.07,0.5014\n",
      "formal,proper,8.02,0.4053\n",
      "dreary,dull,8.25,0.6733\n",
      "delightful,cheerful,6.58,0.4528\n",
      "unhappy,mad,5.95,0.3969\n",
      "sad,terrible,5.4,0.5546\n",
      "sick,crazy,3.57,0.3581\n",
      "violent,angry,6.98,0.3999\n",
      "laden,heavy,5.9,0.4155\n",
      "dirty,cheap,1.6,0.3768\n",
      "elastic,flexible,7.78,0.4524\n",
      "hard,dense,5.9,0.1787\n",
      "recent,new,7.05,0.1920\n",
      "bold,proud,3.97,0.1886\n",
      "sly,strange,1.97,0.2760\n",
      "strange,sly,2.07,0.2760\n",
      "dumb,rare,0.48,0.1544\n",
      "sly,tough,0.58,0.1619\n",
      "terrific,mad,0.4,0.2544\n",
      "modest,flexible,0.98,0.1709\n",
      "fresh,wide,0.4,0.1579\n",
      "huge,dumb,0.48,0.1673\n",
      "large,flexible,0.48,0.1920\n",
      "dirty,narrow,0.3,0.1133\n",
      "wife,husband,2.3,0.8294\n",
      "book,text,6.35,0.2838\n",
      "groom,bride,3.17,0.6758\n",
      "night,day,1.88,0.5070\n",
      "south,north,2.2,0.9675\n",
      "plane,airport,3.65,0.5317\n",
      "uncle,aunt,5.5,0.7643\n",
      "horse,mare,8.33,0.6622\n",
      "bottom,top,0.7,0.4598\n",
      "friend,buddy,8.78,0.6972\n",
      "student,pupil,9.35,0.5123\n",
      "world,globe,6.67,0.6946\n",
      "leg,arm,2.88,0.5506\n",
      "plane,jet,8.1,0.7661\n",
      "woman,man,3.33,0.7664\n",
      "horse,colt,7.07,0.6766\n",
      "actress,actor,7.12,0.7930\n",
      "teacher,instructor,9.25,0.5253\n",
      "movie,film,8.87,0.8677\n",
      "bird,hawk,7.85,0.4278\n",
      "word,dictionary,3.68,0.4502\n",
      "money,salary,7.88,0.2558\n",
      "dog,cat,1.75,0.7609\n",
      "area,region,9.47,0.5685\n",
      "navy,army,6.43,0.5965\n",
      "book,literature,7.53,0.4706\n",
      "clothes,closet,3.27,0.4177\n",
      "sunset,sunrise,2.47,0.6612\n",
      "child,adult,2.98,0.4675\n",
      "cow,cattle,9.52,0.6319\n",
      "book,story,5.63,0.3450\n",
      "winter,summer,2.38,0.7156\n",
      "taxi,cab,9.2,0.7511\n",
      "tree,maple,5.53,0.3741\n",
      "bed,bedroom,3.4,0.5246\n",
      "roof,ceiling,7.58,0.5099\n",
      "disease,infection,7.15,0.6768\n",
      "arm,shoulder,4.85,0.5260\n",
      "sheep,lamb,8.42,0.6539\n",
      "lady,gentleman,3.42,0.5127\n",
      "boat,anchor,2.25,0.1739\n",
      "priest,monk,6.28,0.6334\n",
      "toe,finger,4.68,0.4351\n",
      "river,stream,7.3,0.4050\n",
      "anger,fury,8.73,0.7359\n",
      "date,calendar,4.42,0.4377\n",
      "sea,ocean,8.27,0.7644\n",
      "second,minute,4.62,0.2574\n",
      "hand,thumb,3.88,0.4266\n",
      "wood,log,7.3,0.2430\n",
      "mud,dirt,7.32,0.5806\n",
      "hallway,corridor,9.28,0.3219\n",
      "way,manner,7.62,0.4608\n",
      "mouse,cat,1.12,0.4657\n",
      "cop,sheriff,9.05,0.3324\n",
      "death,burial,4.93,0.3695\n",
      "music,melody,6.98,0.5026\n",
      "beer,alcohol,7.5,0.4735\n",
      "mouth,lip,7.1,0.3768\n",
      "storm,hurricane,6.38,0.7322\n",
      "tax,income,2.38,0.5878\n",
      "flower,violet,6.95,0.5068\n",
      "paper,cardboard,5.38,0.4772\n",
      "floor,ceiling,1.73,0.4388\n",
      "beach,seashore,8.33,0.6896\n",
      "rod,curtain,3.03,0.1745\n",
      "hound,fox,2.38,0.4123\n",
      "street,alley,5.48,0.6082\n",
      "boat,deck,4.28,0.3596\n",
      "car,horn,2.57,0.1544\n",
      "friend,guest,4.25,0.2153\n",
      "employer,employee,3.65,0.6552\n",
      "hand,wrist,3.97,0.3982\n",
      "ball,cannon,2.58,0.2555\n",
      "alcohol,brandy,6.98,0.3314\n",
      "victory,triumph,8.98,0.8288\n",
      "telephone,booth,3.63,0.1872\n",
      "door,doorway,5.4,0.5806\n",
      "motel,inn,8.17,0.5387\n",
      "clothes,cloth,5.47,0.4614\n",
      "steak,meat,7.47,0.5725\n",
      "nail,thumb,3.55,0.2310\n",
      "band,orchestra,7.08,0.5031\n",
      "book,bible,5.0,0.4387\n",
      "business,industry,7.02,0.4992\n",
      "winter,season,6.27,0.4722\n",
      "decade,century,3.48,0.6031\n",
      "alcohol,gin,8.65,0.3133\n",
      "hat,coat,2.67,0.4367\n",
      "window,door,3.33,0.6213\n",
      "arm,wrist,3.57,0.5032\n",
      "house,apartment,5.8,0.6629\n",
      "glass,crystal,6.27,0.4120\n",
      "wine,brandy,5.15,0.6008\n",
      "creator,maker,9.62,0.2605\n",
      "dinner,breakfast,3.33,0.7007\n",
      "arm,muscle,3.72,0.3890\n",
      "bubble,suds,8.57,0.1078\n",
      "bread,flour,3.33,0.6152\n",
      "death,tragedy,5.8,0.3917\n",
      "absence,presence,0.4,0.3642\n",
      "gun,cannon,5.68,0.3960\n",
      "grass,blade,4.57,0.3657\n",
      "ball,basket,1.67,0.3863\n",
      "hose,garden,1.67,0.2347\n",
      "boy,kid,7.5,0.6323\n",
      "church,choir,2.95,0.5192\n",
      "clothes,drawer,3.02,0.2380\n",
      "tower,bell,1.9,0.2725\n",
      "father,parent,7.07,0.2569\n",
      "school,grade,4.42,0.4538\n",
      "parent,adult,5.37,0.3549\n",
      "bar,jail,1.9,0.1295\n",
      "car,highway,3.4,0.3387\n",
      "dictionary,definition,6.25,0.2783\n",
      "door,cellar,1.97,0.3038\n",
      "army,legion,5.95,0.3156\n",
      "metal,aluminum,7.25,0.6376\n",
      "chair,bench,6.67,0.1719\n",
      "cloud,fog,6.0,0.4211\n",
      "boy,son,6.75,0.6338\n",
      "water,ice,6.47,0.3523\n",
      "bed,blanket,3.02,0.3997\n",
      "attorney,lawyer,9.35,0.8205\n",
      "area,zone,8.33,0.4301\n",
      "business,company,9.02,0.5192\n",
      "clothes,fabric,5.87,0.3779\n",
      "sweater,jacket,7.15,0.6227\n",
      "money,capital,6.67,0.2637\n",
      "hand,foot,4.17,0.2272\n",
      "alcohol,cocktail,6.73,0.3015\n",
      "yard,inch,3.78,0.2621\n",
      "molecule,atom,6.45,0.5361\n",
      "lens,camera,4.28,0.5481\n",
      "meal,dinner,7.15,0.6844\n",
      "eye,tear,3.55,0.1831\n",
      "god,devil,1.8,0.4702\n",
      "loop,belt,3.1,0.1625\n",
      "rat,mouse,7.78,0.4651\n",
      "motor,engine,8.65,0.4794\n",
      "car,cab,7.42,0.5369\n",
      "cat,lion,6.75,0.3998\n",
      "size,magnitude,6.33,0.3148\n",
      "reality,fantasy,1.03,0.3384\n",
      "door,gate,5.25,0.4968\n",
      "cat,pet,5.95,0.6892\n",
      "tin,aluminum,6.42,0.4652\n",
      "bone,jaw,4.17,0.5343\n",
      "cereal,wheat,3.75,0.5057\n",
      "house,key,1.9,-0.0413\n",
      "blood,flesh,4.28,0.3215\n",
      "door,corridor,3.73,0.1320\n",
      "god,spirit,7.3,0.2195\n",
      "capability,competence,7.62,0.3759\n",
      "abundance,plenty,8.97,0.4815\n",
      "sofa,chair,6.67,0.4457\n",
      "wall,brick,4.68,0.4055\n",
      "horn,drum,2.68,0.3340\n",
      "organ,liver,6.15,0.4418\n",
      "strength,might,7.07,0.1011\n",
      "phrase,word,5.48,0.6777\n",
      "band,parade,3.92,0.1766\n",
      "stomach,waist,5.9,0.3979\n",
      "cloud,storm,5.6,0.2240\n",
      "joy,pride,5.0,0.5262\n",
      "noise,rattle,6.17,0.2361\n",
      "rain,mist,5.97,0.4444\n",
      "beer,beverage,5.42,0.5870\n",
      "man,uncle,3.92,0.4186\n",
      "apple,juice,2.88,0.4475\n",
      "intelligence,logic,6.5,0.2480\n",
      "communication,language,7.47,0.2688\n",
      "mink,fur,6.83,0.5751\n",
      "mob,crowd,7.85,0.2990\n",
      "shore,coast,8.83,0.5084\n",
      "wire,cord,7.62,0.4634\n",
      "bird,turkey,6.58,0.5290\n",
      "bed,crib,7.3,0.4355\n",
      "competence,ability,7.5,0.3829\n",
      "cloud,haze,7.32,0.4239\n",
      "supper,meal,7.53,0.6667\n",
      "bar,cage,2.8,0.2825\n",
      "water,salt,1.3,0.3986\n",
      "sense,intuition,7.68,0.4109\n",
      "situation,condition,6.58,0.4407\n",
      "crime,theft,7.53,0.4657\n",
      "style,fashion,8.5,0.3894\n",
      "boundary,border,9.08,0.3861\n",
      "arm,body,4.05,0.3340\n",
      "boat,car,2.37,0.4237\n",
      "sandwich,lunch,6.3,0.4965\n",
      "bride,princess,2.8,0.5243\n",
      "heroine,hero,8.78,0.5211\n",
      "car,gauge,1.13,0.0823\n",
      "insect,bee,6.07,0.5377\n",
      "crib,cradle,8.55,0.3125\n",
      "animal,person,3.05,0.2527\n",
      "marijuana,herb,6.5,0.4328\n",
      "bed,hospital,0.92,0.4499\n",
      "cheek,tongue,4.52,0.4601\n",
      "disc,computer,3.2,0.1451\n",
      "curve,angle,3.33,0.3024\n",
      "grass,moss,5.0,0.5187\n",
      "school,law,1.13,0.1791\n",
      "foot,head,2.3,0.0673\n",
      "mother,guardian,6.5,0.3982\n",
      "orthodontist,dentist,8.27,0.7643\n",
      "alcohol,whiskey,7.27,0.3527\n",
      "mouth,tooth,6.3,0.3159\n",
      "breakfast,bacon,4.37,0.4338\n",
      "bathroom,bedroom,3.4,0.6175\n",
      "plate,bowl,5.23,0.2423\n",
      "meat,bacon,5.8,0.5193\n",
      "air,helium,3.63,0.2905\n",
      "worker,employer,5.37,0.4821\n",
      "body,chest,4.45,0.3357\n",
      "son,father,3.82,0.8933\n",
      "heart,surgery,1.08,0.2909\n",
      "woman,secretary,1.98,0.0905\n",
      "man,father,4.83,0.4201\n",
      "beach,island,5.6,0.5071\n",
      "story,topic,5.0,0.2913\n",
      "game,fun,3.42,0.2888\n",
      "weekend,week,4.0,0.7130\n",
      "couple,pair,8.33,0.5618\n",
      "woman,wife,5.72,0.4448\n",
      "sheep,cattle,4.77,0.6972\n",
      "purse,bag,8.33,0.5456\n",
      "ceiling,cathedral,2.42,0.1996\n",
      "bean,coffee,5.15,0.4674\n",
      "wood,paper,2.88,0.2623\n",
      "top,side,1.9,0.2208\n",
      "crime,fraud,5.65,0.3834\n",
      "pain,harm,5.38,0.3213\n",
      "lover,companion,5.97,0.4883\n",
      "evening,dusk,7.78,0.4114\n",
      "father,daughter,2.62,0.7375\n",
      "wine,liquor,7.85,0.5198\n",
      "cow,goat,2.93,0.6360\n",
      "belief,opinion,7.7,0.4088\n",
      "reality,illusion,1.42,0.3585\n",
      "pact,agreement,9.02,0.7366\n",
      "wealth,poverty,1.27,0.3360\n",
      "accident,emergency,4.93,0.2831\n",
      "battle,conquest,7.22,0.2839\n",
      "friend,teacher,2.62,0.2848\n",
      "illness,infection,6.9,0.5689\n",
      "game,trick,2.32,0.2198\n",
      "brother,son,3.48,0.8380\n",
      "aunt,nephew,3.1,0.6532\n",
      "worker,mechanic,4.92,0.4221\n",
      "doctor,orthodontist,5.58,0.5294\n",
      "oak,maple,6.03,0.5629\n",
      "bee,queen,3.27,0.2517\n",
      "car,bicycle,3.47,0.5364\n",
      "goal,quest,5.83,0.2577\n",
      "august,month,5.53,0.1327\n",
      "army,squad,5.08,0.2731\n",
      "cloud,weather,4.87,0.1987\n",
      "physician,doctor,8.88,0.7806\n",
      "canyon,valley,6.75,0.5930\n",
      "river,valley,1.67,0.5106\n",
      "sun,sky,2.27,0.4462\n",
      "target,arrow,3.25,0.1960\n",
      "chocolate,pie,2.27,0.4060\n",
      "circumstance,situation,7.85,0.5159\n",
      "opinion,choice,5.43,0.2453\n",
      "rhythm,melody,6.12,0.4921\n",
      "gut,nerve,4.93,0.3510\n",
      "day,dawn,5.47,0.3311\n",
      "cattle,beef,7.03,0.5763\n",
      "doctor,professor,4.65,0.2134\n",
      "arm,vein,3.65,0.1033\n",
      "room,bath,3.33,0.3320\n",
      "corporation,business,9.02,0.4157\n",
      "fun,football,1.97,0.1673\n",
      "hill,cliff,4.28,0.4819\n",
      "bone,ankle,3.82,0.4084\n",
      "apple,candy,2.08,0.4053\n",
      "helper,maid,5.58,0.3272\n",
      "leader,manager,7.27,0.2561\n",
      "lemon,tea,1.6,0.3119\n",
      "bee,ant,2.78,0.4902\n",
      "basketball,baseball,4.92,0.6412\n",
      "rice,bean,2.72,0.5618\n",
      "bed,furniture,6.08,0.2812\n",
      "emotion,passion,7.72,0.4847\n",
      "anarchy,chaos,7.93,0.7510\n",
      "crime,violation,7.12,0.1923\n",
      "machine,engine,5.58,0.3661\n",
      "beach,sea,4.68,0.4032\n",
      "alley,bowl,1.53,0.1588\n",
      "jar,bottle,7.83,0.5903\n",
      "strength,capability,5.28,0.3550\n",
      "seed,mustard,3.48,0.1645\n",
      "guitar,drum,3.78,0.4574\n",
      "opinion,idea,5.7,0.2576\n",
      "north,west,3.63,0.9415\n",
      "diet,salad,2.98,0.3058\n",
      "mother,wife,3.02,0.7551\n",
      "dad,mother,3.55,0.6609\n",
      "captain,sailor,5.0,0.4170\n",
      "meter,yard,5.6,0.3349\n",
      "beer,champagne,4.45,0.4845\n",
      "motor,boat,2.57,0.3325\n",
      "card,bridge,1.97,0.0704\n",
      "science,psychology,4.92,0.4809\n",
      "sinner,saint,1.6,0.5181\n",
      "destruction,construction,0.98,0.2248\n",
      "crowd,bunch,7.42,0.2154\n",
      "beach,reef,3.77,0.5177\n",
      "man,child,4.13,0.3163\n",
      "bread,cheese,1.95,0.5404\n",
      "champion,winner,8.73,0.6248\n",
      "celebration,ceremony,7.72,0.5641\n",
      "menu,order,3.62,0.1002\n",
      "king,princess,3.27,0.5162\n",
      "wealth,prestige,6.07,0.3092\n",
      "endurance,strength,6.58,0.4090\n",
      "danger,threat,8.78,0.7039\n",
      "god,priest,4.5,0.2896\n",
      "men,fraternity,3.13,0.2718\n",
      "buddy,companion,8.65,0.3470\n",
      "teacher,helper,4.28,0.3045\n",
      "body,stomach,3.93,0.3846\n",
      "tongue,throat,3.1,0.4415\n",
      "house,carpet,1.38,0.2744\n",
      "intelligence,skill,5.35,0.1707\n",
      "journey,conquest,4.72,0.2734\n",
      "god,prey,1.23,0.1148\n",
      "brother,soul,0.97,0.1942\n",
      "adversary,opponent,9.05,0.5692\n",
      "death,catastrophe,4.13,0.2283\n",
      "monster,demon,6.95,0.6138\n",
      "day,morning,4.87,0.6070\n",
      "man,victor,1.9,0.1523\n",
      "friend,guy,3.88,0.4243\n",
      "song,story,3.97,0.3005\n",
      "ray,sunshine,6.83,0.3021\n",
      "guy,stud,5.83,0.2913\n",
      "chicken,rice,1.43,0.4695\n",
      "box,elevator,1.32,0.1560\n",
      "butter,potato,1.22,0.4094\n",
      "apartment,furniture,1.28,0.3046\n",
      "lake,swamp,4.92,0.4266\n",
      "salad,vinegar,1.13,0.4276\n",
      "flower,bulb,4.48,0.4598\n",
      "cloud,mist,6.67,0.4250\n",
      "driver,pilot,6.28,0.3669\n",
      "sugar,honey,5.13,0.5062\n",
      "body,shoulder,2.88,0.2292\n",
      "idea,image,3.55,0.2083\n",
      "father,brother,4.2,0.8241\n",
      "moon,planet,5.87,0.5025\n",
      "ball,costume,2.32,0.0757\n",
      "rail,fence,5.22,0.2594\n",
      "room,bed,2.35,0.4872\n",
      "flower,bush,4.25,0.2925\n",
      "bone,knee,4.17,0.4044\n",
      "arm,knee,2.75,0.3883\n",
      "bottom,side,2.63,0.3293\n",
      "vessel,vein,5.15,0.0988\n",
      "cat,rabbit,2.37,0.6261\n",
      "meat,sandwich,2.35,0.4273\n",
      "belief,concept,5.08,0.2608\n",
      "intelligence,insight,5.9,0.2652\n",
      "attention,interest,7.22,0.3379\n",
      "attitude,confidence,4.35,0.3671\n",
      "right,justice,7.05,0.1550\n",
      "argument,agreement,1.45,0.2182\n",
      "depth,magnitude,6.12,0.2783\n",
      "medium,news,3.65,0.0677\n",
      "winner,candidate,2.78,0.2653\n",
      "birthday,date,5.08,0.2155\n",
      "fee,payment,7.15,0.4151\n",
      "bible,hymn,5.15,0.3120\n",
      "exit,doorway,5.5,0.1949\n",
      "man,sentry,3.25,0.2440\n",
      "aisle,hall,6.35,0.2066\n",
      "whiskey,gin,6.28,0.6193\n",
      "blood,marrow,3.4,0.4988\n",
      "oil,mink,1.23,0.1664\n",
      "floor,deck,5.55,0.3990\n",
      "roof,floor,2.62,0.3791\n",
      "door,floor,1.67,0.2921\n",
      "shoulder,head,3.42,0.2620\n",
      "wagon,carriage,7.7,0.4319\n",
      "car,carriage,5.13,0.2671\n",
      "elbow,ankle,3.13,0.7087\n",
      "wealth,fame,4.02,0.2220\n",
      "sorrow,shame,4.77,0.4534\n",
      "administration,management,7.25,0.2470\n",
      "communication,conversation,8.02,0.3278\n",
      "pollution,atmosphere,4.25,0.2427\n",
      "anatomy,biology,5.33,0.5296\n",
      "college,profession,3.12,0.3480\n",
      "book,topic,2.07,0.2063\n",
      "formula,equation,7.95,0.4223\n",
      "book,information,5.0,0.1324\n",
      "boy,partner,1.9,0.0449\n",
      "sky,universe,4.68,0.3039\n",
      "population,people,7.68,0.3670\n",
      "college,class,4.13,0.2813\n",
      "chief,mayor,4.85,0.3347\n",
      "rabbi,minister,7.62,0.2618\n",
      "meter,inch,5.08,0.3511\n",
      "polyester,cotton,5.63,0.5094\n",
      "lawyer,banker,1.88,0.4165\n",
      "violin,instrument,6.58,0.4961\n",
      "camp,cabin,4.2,0.2383\n",
      "pot,appliance,2.53,0.1072\n",
      "linen,fabric,7.47,0.4747\n",
      "whiskey,champagne,5.33,0.4412\n",
      "girl,child,5.38,0.5892\n",
      "cottage,cabin,7.72,0.4302\n",
      "bird,hen,7.03,0.4769\n",
      "racket,noise,8.1,0.1557\n",
      "sunset,evening,5.98,0.3144\n",
      "drizzle,rain,9.17,0.6986\n",
      "adult,baby,2.22,0.2512\n",
      "charcoal,coal,7.63,0.3551\n",
      "body,spine,4.78,0.3027\n",
      "head,nail,2.47,0.2175\n",
      "log,timber,8.05,0.2753\n",
      "spoon,cup,2.02,0.4725\n",
      "body,nerve,3.13,0.1546\n",
      "man,husband,5.32,0.3450\n",
      "bone,neck,2.53,0.3919\n",
      "frustration,anger,6.5,0.7356\n",
      "river,sea,5.72,0.4775\n",
      "task,job,8.87,0.3854\n",
      "club,society,5.23,0.2076\n",
      "reflection,image,7.27,0.1703\n",
      "prince,king,5.92,0.6160\n",
      "snow,weather,5.48,0.5175\n",
      "people,party,2.2,0.1358\n",
      "boy,brother,6.67,0.5195\n",
      "root,grass,3.55,0.3049\n",
      "brow,eye,3.82,0.2686\n",
      "money,pearl,2.1,0.0410\n",
      "money,diamond,3.42,0.1085\n",
      "vehicle,bus,6.47,0.4597\n",
      "cab,bus,5.6,0.5724\n",
      "house,barn,4.33,0.4770\n",
      "finger,palm,3.33,0.4419\n",
      "car,bridge,0.95,0.2190\n",
      "effort,difficulty,4.45,0.0735\n",
      "fact,insight,4.77,-0.0091\n",
      "job,management,3.97,0.0847\n",
      "cancer,sickness,7.93,0.3216\n",
      "word,newspaper,2.47,0.1013\n",
      "composer,writer,6.58,0.4504\n",
      "actor,singer,4.52,0.5677\n",
      "shelter,hut,6.47,0.3109\n",
      "bathroom,kitchen,3.1,0.6557\n",
      "cabin,hut,6.53,0.4247\n",
      "door,kitchen,1.67,0.3774\n",
      "value,belief,7.07,0.1583\n",
      "wisdom,intelligence,7.47,0.2562\n",
      "ignorance,intelligence,1.5,0.1592\n",
      "happiness,luck,2.38,0.2766\n",
      "idea,scheme,6.75,0.2962\n",
      "mood,emotion,8.12,0.2977\n",
      "happiness,peace,6.03,0.3892\n",
      "despair,misery,7.22,0.5727\n",
      "logic,arithmetic,3.97,0.5052\n",
      "denial,confession,1.03,0.3319\n",
      "argument,criticism,5.08,0.2768\n",
      "aggression,hostility,8.48,0.4997\n",
      "hysteria,confusion,6.33,0.4402\n",
      "chemistry,theory,3.17,0.2463\n",
      "trial,verdict,3.33,0.4786\n",
      "comfort,safety,5.8,0.3584\n",
      "confidence,self,3.12,0.1625\n",
      "vision,perception,6.88,0.3129\n",
      "era,decade,5.4,0.4130\n",
      "biography,fiction,1.38,0.4468\n",
      "discussion,argument,5.48,0.3880\n",
      "code,symbol,6.03,0.2031\n",
      "danger,disease,3.0,0.1490\n",
      "accident,catastrophe,5.9,0.3549\n",
      "journey,trip,8.88,0.6165\n",
      "activity,movement,7.15,0.3177\n",
      "gossip,news,5.22,0.4473\n",
      "father,god,3.57,0.2947\n",
      "action,course,5.45,0.2557\n",
      "fever,illness,7.65,0.3419\n",
      "aviation,flight,8.18,0.4479\n",
      "game,action,4.85,0.2330\n",
      "molecule,air,3.05,0.0389\n",
      "home,state,2.58,0.1387\n",
      "word,literature,4.77,0.2570\n",
      "adult,guardian,6.9,0.3908\n",
      "newspaper,information,5.65,0.0813\n",
      "communication,television,5.6,0.1370\n",
      "cousin,uncle,4.63,0.7792\n",
      "author,reader,1.6,0.3269\n",
      "guy,partner,3.57,0.1239\n",
      "area,corner,2.07,0.2693\n",
      "ballad,song,7.53,0.7394\n",
      "wall,decoration,2.62,0.2200\n",
      "word,page,2.92,0.1981\n",
      "nurse,scientist,2.08,0.2653\n",
      "politician,president,7.38,0.2734\n",
      "president,mayor,5.68,0.3190\n",
      "book,essay,4.72,0.5296\n",
      "man,warrior,4.72,0.3152\n",
      "article,journal,6.18,0.4581\n",
      "breakfast,supper,4.4,0.6537\n",
      "crowd,parade,3.93,0.3267\n",
      "aisle,hallway,6.75,0.4198\n",
      "teacher,rabbi,4.37,0.2817\n",
      "hip,lip,1.43,0.2911\n",
      "book,article,5.43,0.3698\n",
      "room,cell,4.58,0.2046\n",
      "box,booth,3.8,0.2251\n",
      "daughter,kid,4.17,0.3756\n",
      "limb,leg,6.9,0.4211\n",
      "liver,lung,2.7,0.6386\n",
      "classroom,hallway,2.0,0.4830\n",
      "mountain,ledge,3.73,0.3959\n",
      "car,elevator,1.03,0.2078\n",
      "bed,couch,3.42,0.5952\n",
      "clothes,button,2.3,0.0849\n",
      "clothes,coat,5.35,0.4289\n",
      "kidney,organ,6.17,0.5245\n",
      "apple,sauce,1.43,0.2672\n",
      "chicken,steak,3.73,0.5359\n",
      "car,hose,0.87,0.2773\n",
      "tobacco,cigarette,7.5,0.6918\n",
      "student,professor,1.95,0.4207\n",
      "baby,daughter,5.0,0.5726\n",
      "pipe,cigar,6.03,0.2884\n",
      "milk,juice,4.05,0.5152\n",
      "box,cigar,1.25,0.1662\n",
      "apartment,hotel,3.33,0.5007\n",
      "cup,cone,3.17,0.3018\n",
      "horse,ox,3.02,0.4087\n",
      "throat,nose,2.8,0.5165\n",
      "bone,teeth,4.17,0.4440\n",
      "bone,elbow,3.78,0.4031\n",
      "bacon,bean,1.22,0.3277\n",
      "cup,jar,5.13,0.4480\n",
      "proof,fact,7.3,0.2412\n",
      "appointment,engagement,6.75,0.1829\n",
      "birthday,year,1.67,0.2494\n",
      "word,clue,2.53,0.3340\n",
      "author,creator,8.02,0.4200\n",
      "atom,carbon,3.1,0.2409\n",
      "archbishop,bishop,7.05,0.8358\n",
      "letter,paragraph,4.0,0.3556\n",
      "page,paragraph,3.03,0.4410\n",
      "steeple,chapel,7.08,0.4518\n",
      "muscle,bone,3.65,0.4979\n",
      "muscle,tongue,5.0,0.1145\n",
      "boy,soldier,2.15,0.4422\n",
      "belly,abdomen,8.13,0.4076\n",
      "guy,girl,3.33,0.3644\n",
      "bed,chair,3.5,0.3445\n",
      "clothes,jacket,5.15,0.4863\n",
      "gun,knife,3.65,0.5624\n",
      "tin,metal,5.63,0.4963\n",
      "bottle,container,7.93,0.4790\n",
      "hen,turkey,6.13,0.4380\n",
      "meat,bread,1.67,0.4386\n",
      "arm,bone,3.83,0.3369\n",
      "neck,spine,5.32,0.5183\n",
      "apple,lemon,4.05,0.4829\n",
      "agony,grief,7.63,0.5328\n",
      "assignment,task,8.7,0.4846\n",
      "night,dawn,2.95,0.3212\n",
      "dinner,soup,3.72,0.3988\n",
      "calf,bull,4.93,0.2564\n",
      "snow,storm,4.8,0.4668\n",
      "nail,hand,3.42,0.2550\n",
      "dog,horse,2.38,0.4826\n",
      "arm,neck,1.58,0.4724\n",
      "ball,glove,1.75,0.4427\n",
      "flu,fever,6.08,0.4268\n",
      "fee,salary,3.72,0.4021\n",
      "nerve,brain,3.88,0.4438\n",
      "beast,animal,7.83,0.3788\n",
      "dinner,chicken,2.85,0.3636\n",
      "girl,maid,2.93,0.4565\n",
      "child,boy,5.75,0.5928\n",
      "alcohol,wine,7.42,0.3543\n",
      "nose,mouth,3.73,0.5035\n",
      "street,car,2.38,0.3314\n",
      "bell,door,2.2,0.1747\n",
      "box,hat,1.3,0.1945\n",
      "belief,impression,5.95,0.3190\n",
      "bias,opinion,5.6,0.2526\n",
      "attention,awareness,8.73,0.2910\n",
      "anger,mood,4.1,0.3024\n",
      "elegance,style,5.72,0.5098\n",
      "beauty,age,1.58,0.0698\n",
      "book,theme,2.58,0.1475\n",
      "friend,mother,2.53,0.5443\n",
      "vitamin,iron,5.55,0.2241\n",
      "car,factory,2.75,0.2002\n",
      "pact,condition,2.45,0.1043\n",
      "chapter,choice,0.48,0.0400\n",
      "arithmetic,rhythm,2.35,0.1192\n",
      "winner,presence,1.08,0.0534\n",
      "belief,flower,0.4,0.0519\n",
      "winner,goal,3.23,0.2578\n",
      "trick,size,0.48,0.0412\n",
      "choice,vein,0.98,0.0695\n",
      "hymn,conquest,0.68,0.2177\n",
      "endurance,band,0.4,0.0265\n",
      "jail,choice,1.08,0.0003\n",
      "condition,boy,0.48,0.1928\n",
      "flower,endurance,0.4,-0.0369\n",
      "hole,agreement,0.3,0.0004\n",
      "doctor,temper,0.48,0.1262\n",
      "fraternity,door,0.68,0.1511\n",
      "task,woman,0.68,0.0421\n",
      "fraternity,baseball,0.88,0.1869\n",
      "cent,size,0.4,0.1569\n",
      "presence,door,0.48,0.0489\n",
      "mouse,management,0.48,0.0012\n",
      "task,highway,0.48,0.0950\n",
      "liquor,century,0.4,0.0429\n",
      "task,straw,0.68,0.0589\n",
      "island,task,0.3,0.0354\n",
      "night,chapter,0.48,0.1320\n",
      "pollution,president,0.68,0.0472\n",
      "gun,trick,0.48,0.0489\n",
      "bath,trick,0.58,0.1745\n",
      "diet,apple,1.18,0.1587\n",
      "cent,wife,0.58,0.0739\n",
      "chapter,tail,0.3,0.1012\n",
      "course,stomach,0.58,0.0791\n",
      "hymn,straw,0.4,0.1527\n",
      "dentist,colonel,0.4,0.2706\n",
      "wife,straw,0.4,0.0497\n",
      "hole,wife,0.68,0.0295\n",
      "pupil,president,0.78,-0.0131\n",
      "bath,wife,0.48,0.1702\n",
      "people,cent,0.48,0.0410\n",
      "formula,log,1.77,-0.0022\n",
      "woman,fur,0.58,0.1142\n",
      "apple,sunshine,0.58,0.1804\n",
      "gun,dawn,1.18,0.0917\n",
      "meal,waist,0.98,0.0330\n",
      "camera,president,0.48,-0.0178\n",
      "liquor,band,0.68,0.0353\n",
      "stomach,vein,2.35,0.1573\n",
      "gun,fur,0.3,0.1388\n",
      "couch,baseball,0.88,0.0957\n",
      "worker,camera,0.68,0.1019\n",
      "deck,mouse,0.48,0.0807\n",
      "rice,boy,0.4,0.0954\n",
      "people,gun,0.68,0.0834\n",
      "cliff,tail,0.3,0.1732\n",
      "ankle,window,0.3,0.1258\n",
      "princess,island,0.3,0.1625\n",
      "container,mouse,0.3,0.0485\n",
      "wagon,container,2.65,0.2242\n",
      "people,balloon,0.48,0.0529\n",
      "dollar,people,0.4,0.1162\n",
      "bath,balloon,0.4,0.1090\n",
      "stomach,bedroom,0.4,0.1317\n",
      "bicycle,bedroom,0.4,0.1759\n",
      "log,bath,0.4,0.0595\n",
      "bowl,tail,0.48,0.2321\n",
      "go,come,2.42,0.6605\n",
      "take,steal,6.18,0.2594\n",
      "listen,hear,8.17,0.6487\n",
      "think,rationalize,8.25,0.2026\n",
      "occur,happen,9.32,0.6609\n",
      "vanish,disappear,9.8,0.9004\n",
      "multiply,divide,1.75,0.2980\n",
      "plead,beg,9.08,0.5100\n",
      "begin,originate,8.2,0.1520\n",
      "protect,defend,9.13,0.6000\n",
      "kill,destroy,5.9,0.5965\n",
      "create,make,8.72,0.4442\n",
      "accept,reject,0.83,0.6692\n",
      "ignore,avoid,6.87,0.3882\n",
      "carry,bring,5.8,0.4956\n",
      "leave,enter,0.95,0.4764\n",
      "choose,elect,7.62,0.4081\n",
      "lose,fail,7.33,0.4274\n",
      "encourage,discourage,1.58,0.6204\n",
      "achieve,accomplish,8.57,0.7062\n",
      "make,construct,8.33,0.2624\n",
      "listen,obey,4.93,0.2928\n",
      "inform,notify,9.25,0.6716\n",
      "receive,give,1.47,0.5135\n",
      "borrow,beg,2.62,0.2244\n",
      "take,obtain,7.1,0.2466\n",
      "advise,recommend,8.1,0.5992\n",
      "imitate,portray,6.75,0.4300\n",
      "win,succeed,7.9,0.3487\n",
      "think,decide,5.13,0.3698\n",
      "greet,meet,6.17,0.4248\n",
      "agree,argue,0.77,0.5026\n",
      "enjoy,entertain,5.92,0.3968\n",
      "destroy,make,1.6,0.2136\n",
      "save,protect,6.58,0.4019\n",
      "give,lend,7.22,0.4731\n",
      "understand,know,7.47,0.7018\n",
      "take,receive,5.08,0.3293\n",
      "accept,acknowledge,6.88,0.5503\n",
      "decide,choose,8.87,0.6102\n",
      "accept,believe,6.75,0.3382\n",
      "keep,possess,8.27,0.1731\n",
      "roam,wander,8.83,0.6705\n",
      "succeed,fail,0.83,0.3445\n",
      "spend,save,0.55,0.3804\n",
      "leave,go,7.63,0.4754\n",
      "come,attend,8.1,0.2712\n",
      "know,believe,5.5,0.5886\n",
      "gather,meet,7.3,0.3258\n",
      "make,earn,7.62,0.3473\n",
      "forget,ignore,3.07,0.5129\n",
      "multiply,add,2.7,0.3644\n",
      "shrink,grow,0.23,0.5707\n",
      "arrive,leave,1.33,0.4679\n",
      "succeed,try,3.98,0.1806\n",
      "accept,deny,1.75,0.4046\n",
      "arrive,come,7.05,0.4483\n",
      "agree,differ,1.05,0.3403\n",
      "send,receive,1.08,0.4633\n",
      "win,dominate,5.68,0.3438\n",
      "add,divide,2.3,0.1641\n",
      "kill,choke,4.92,0.3950\n",
      "acquire,get,8.82,0.2062\n",
      "participate,join,7.7,0.6274\n",
      "leave,remain,2.53,0.4655\n",
      "go,enter,4.0,0.4434\n",
      "take,carry,5.23,0.4811\n",
      "forget,learn,1.18,0.3876\n",
      "appoint,elect,8.17,0.5807\n",
      "engage,marry,5.43,0.1943\n",
      "ask,pray,3.72,0.4134\n",
      "go,send,3.75,0.4586\n",
      "take,deliver,4.37,0.2293\n",
      "speak,hear,3.02,0.4942\n",
      "analyze,evaluate,8.03,0.7480\n",
      "argue,rationalize,4.2,0.2792\n",
      "lose,keep,1.05,0.3024\n",
      "compare,analyze,8.1,0.5280\n",
      "disorganize,organize,1.45,0.3486\n",
      "go,allow,3.62,0.2329\n",
      "take,possess,7.2,0.2436\n",
      "learn,listen,3.88,0.3919\n",
      "destroy,construct,0.92,0.3285\n",
      "create,build,8.48,0.5696\n",
      "steal,buy,1.13,0.3605\n",
      "kill,hang,4.45,0.2448\n",
      "forget,know,0.92,0.5860\n",
      "create,imagine,5.13,0.2492\n",
      "do,happen,4.23,0.5667\n",
      "win,accomplish,7.85,0.3058\n",
      "give,deny,1.43,0.3631\n",
      "deserve,earn,5.8,0.4107\n",
      "get,put,1.98,0.4623\n",
      "locate,find,8.73,0.5766\n",
      "appear,attend,6.28,0.2520\n",
      "know,comprehend,7.63,0.4310\n",
      "pretend,imagine,8.47,0.4736\n",
      "satisfy,please,7.67,0.1647\n",
      "cherish,keep,4.85,0.1933\n",
      "argue,differ,5.15,0.2571\n",
      "overcome,dominate,6.25,0.2736\n",
      "behave,obey,7.3,0.3743\n",
      "cooperate,participate,6.43,0.4417\n",
      "achieve,try,4.42,0.1402\n",
      "fail,discourage,3.33,0.1684\n",
      "begin,quit,1.28,0.2204\n",
      "say,participate,3.82,0.1356\n",
      "come,bring,2.42,0.6256\n",
      "declare,announce,9.08,0.3991\n",
      "read,comprehend,4.7,0.4055\n",
      "take,leave,2.47,0.4296\n",
      "proclaim,announce,8.18,0.3628\n",
      "acquire,obtain,8.57,0.4640\n",
      "conclude,decide,7.75,0.3321\n",
      "please,plead,2.98,0.1412\n",
      "argue,prove,4.83,0.5283\n",
      "ask,plead,6.47,0.4035\n",
      "find,disappear,0.77,0.2478\n",
      "inspect,examine,8.75,0.5662\n",
      "verify,justify,4.08,0.3010\n",
      "assume,predict,4.85,0.3866\n",
      "learn,evaluate,4.17,0.3365\n",
      "argue,justify,5.0,0.4515\n",
      "make,become,4.77,0.4044\n",
      "discover,originate,4.83,0.1374\n",
      "achieve,succeed,7.5,0.4603\n",
      "give,put,3.65,0.4662\n",
      "understand,listen,4.68,0.3968\n",
      "expand,grow,8.27,0.5926\n",
      "borrow,sell,1.73,0.4208\n",
      "keep,protect,5.4,0.4338\n",
      "explain,prove,4.1,0.3301\n",
      "assume,pretend,3.72,0.4567\n",
      "agree,please,4.13,0.2230\n",
      "forgive,forget,3.92,0.4538\n",
      "clarify,explain,8.33,0.6328\n",
      "understand,forgive,4.87,0.2960\n",
      "remind,forget,0.87,0.5563\n",
      "get,remain,1.6,0.2429\n",
      "realize,discover,7.47,0.4905\n",
      "require,inquire,1.82,0.0377\n",
      "ignore,ask,1.07,0.3090\n",
      "think,inquire,4.77,0.1198\n",
      "reject,avoid,4.78,0.2253\n",
      "argue,persuade,6.23,0.3355\n",
      "pursue,persuade,3.17,0.2007\n",
      "accept,forgive,3.73,0.4179\n",
      "do,quit,1.17,0.2885\n",
      "investigate,examine,8.1,0.6977\n",
      "discuss,explain,6.67,0.4329\n",
      "owe,lend,2.32,0.2829\n",
      "explore,discover,8.48,0.5438\n",
      "complain,argue,4.8,0.5309\n",
      "withdraw,reject,6.38,0.4809\n",
      "keep,borrow,2.25,0.2131\n",
      "beg,ask,6.0,0.5437\n",
      "arrange,organize,8.27,0.5967\n",
      "reduce,shrink,8.02,0.5132\n",
      "speak,acknowledge,4.67,0.3853\n",
      "give,borrow,2.22,0.2199\n",
      "kill,defend,2.63,0.2957\n",
      "disappear,shrink,5.8,0.5116\n",
      "deliver,carry,3.88,0.3697\n",
      "breathe,choke,1.37,0.3235\n",
      "acknowledge,notify,5.3,0.3695\n",
      "become,seem,2.63,0.3363\n",
      "pretend,seem,4.68,0.4335\n",
      "accomplish,become,4.0,0.2604\n",
      "contemplate,think,8.82,0.3450\n",
      "determine,predict,5.8,0.4983\n",
      "please,entertain,5.0,0.1286\n",
      "remain,retain,5.75,0.4075\n",
      "pretend,portray,7.03,0.4029\n",
      "forget,retain,0.63,0.1570\n",
      "want,choose,4.78,0.4979\n",
      "lose,get,0.77,0.4414\n",
      "try,think,2.62,0.4266\n",
      "become,appear,4.77,0.2887\n",
      "leave,ignore,4.42,0.3785\n",
      "accept,recommend,2.75,0.3051\n",
      "leave,wander,3.57,0.4025\n",
      "keep,give,1.05,0.3781\n",
      "give,allow,5.15,0.4937\n",
      "bring,send,2.97,0.4825\n",
      "absorb,learn,5.48,0.3006\n",
      "acquire,find,6.38,0.2685\n",
      "leave,appear,0.97,0.2687\n",
      "create,destroy,0.63,0.3772\n",
      "begin,go,7.42,0.3483\n",
      "get,buy,5.08,0.3379\n",
      "collect,save,6.67,0.3149\n",
      "replace,restore,5.73,0.3725\n",
      "join,add,8.1,0.3302\n",
      "join,marry,5.35,0.3230\n",
      "accept,deliver,1.58,0.3003\n",
      "attach,join,7.75,0.1363\n",
      "put,hang,3.0,0.4911\n",
      "go,sell,0.97,0.2750\n",
      "communicate,pray,3.55,0.2334\n",
      "give,steal,0.5,0.3203\n",
      "add,build,4.92,0.4319\n",
      "bring,restore,2.62,0.3950\n",
      "comprehend,satisfy,2.55,0.3026\n",
      "portray,decide,1.18,0.1296\n",
      "organize,become,1.77,0.1734\n",
      "give,know,0.88,0.3087\n",
      "say,verify,4.9,0.2863\n",
      "cooperate,join,5.18,0.3937\n",
      "arrange,require,0.98,0.2003\n",
      "borrow,want,1.77,0.1613\n",
      "investigate,pursue,7.15,0.4006\n",
      "ignore,explore,0.4,0.2123\n",
      "bring,complain,0.98,0.1511\n",
      "enter,owe,0.68,0.0004\n",
      "portray,notify,0.78,0.1455\n",
      "remind,sell,0.4,0.1480\n",
      "absorb,possess,5.0,0.2386\n",
      "join,acquire,2.85,0.2623\n",
      "send,attend,1.67,0.3135\n",
      "gather,attend,4.8,0.3329\n",
      "absorb,withdraw,2.97,0.2169\n",
      "attend,arrive,6.08,0.3654\n",
      "Correlation = 0.30913428432001067, P Value = 2.6592796177777357e-48\n"
     ]
    }
   ],
   "source": [
    "import pandas as pd\n",
    "import scipy.stats as stats\n",
    "\n",
    "def human_v_model():\n",
    "    df = pd.read_csv('SimLex-999/SimLex-999.txt', sep='\\t')[['word1', 'word2', 'SimLex999']]\n",
    "    human_scores = []\n",
    "    vector_scores = []\n",
    "    for word1, word2, score in df.values.tolist():\n",
    "        human_scores.append(score)\n",
    "        similarity_score = vectors.similarity(word1, word2)\n",
    "        vector_scores.append(similarity_score)\n",
    "        print(f'{word1},{word2},{score},{similarity_score:.4f}')\n",
    "\n",
    "    correlation, p_value = stats.kendalltau(human_scores, vector_scores)\n",
    "    print(f'Correlation = {correlation}, P Value = {p_value}')\n",
    "\n",
    "human_v_model()"
   ]
  },
  {
   "cell_type": "code",
   "execution_count": 31,
   "metadata": {},
   "outputs": [
    {
     "name": "stdout",
     "output_type": "stream",
     "text": [
      "('new', 'ancient'), human_score: 0.23, vector_score: 0.1657\n"
     ]
    }
   ],
   "source": [
    "def get_least_similar_human():\n",
    "    df = pd.read_csv('SimLex-999/SimLex-999.txt', sep='\\t')[['word1', 'word2', 'SimLex999']]\n",
    "    human_score_min = float('inf')\n",
    "    word1 = ''\n",
    "    word2 = ''\n",
    "    for word1, word2, score in df.values.tolist():\n",
    "        if score < human_score_min:\n",
    "            human_score_min = score\n",
    "            word_pair = (word1, word2)\n",
    "            similarity_score = vectors.similarity(word1, word2)\n",
    "            \n",
    "    print(f'{word_pair}, human_score: {human_score_min}, vector_score: {similarity_score:.4f}')\n",
    "\n",
    "get_least_similar_human()"
   ]
  },
  {
   "cell_type": "code",
   "execution_count": 32,
   "metadata": {},
   "outputs": [
    {
     "name": "stdout",
     "output_type": "stream",
     "text": [
      "('house', 'key'), human_score: 1.9, vector_score: -0.0413\n"
     ]
    }
   ],
   "source": [
    "def get_least_similar_vector():\n",
    "    df = pd.read_csv('SimLex-999/SimLex-999.txt', sep='\\t')[['word1', 'word2', 'SimLex999']]\n",
    "    vector_score_min = float('inf')\n",
    "    word1 = ''\n",
    "    word2 = ''\n",
    "    for word1, word2, score in df.values.tolist():\n",
    "        similarity_score = vectors.similarity(word1, word2)\n",
    "        if similarity_score < vector_score_min:\n",
    "            vector_score_min = similarity_score\n",
    "            human_score = score\n",
    "            word_pair = (word1, word2)\n",
    "            \n",
    "    print(f'{word_pair}, human_score: {human_score}, vector_score: {vector_score_min:.4f}')\n",
    "\n",
    "get_least_similar_vector()"
   ]
  },
  {
   "cell_type": "markdown",
   "metadata": {
    "id": "FbYcbUETAhte"
   },
   "source": [
    "### 2.1: What is the least similar pair of words based on human judgement scores and vector similarity? What are their respective values? Do the pairs match? Why or why not?\n"
   ]
  },
  {
   "cell_type": "code",
   "execution_count": 24,
   "metadata": {
    "id": "9Rqb13sARkMN"
   },
   "outputs": [],
   "source": [
    "least_similar_human_judgement = (\"new\", \"ancient\") # TODO replace `word1` and `word2` with the least similar pair based on human judgement\n",
    "least_similar_vector_similar = (\"house\", \"key\") # TODO replace `word1` and `word2` with the least similar pair based on vector similarity"
   ]
  },
  {
   "cell_type": "markdown",
   "metadata": {
    "id": "kcJVPxGcWO1V"
   },
   "source": [
    "No, the pairs do not match. The respective values are (0.23, 0.17) and (1.9, -0.04). Though both the pairs make sense, it checks out that humans thought new and ancient, exact antonyms, are more different than house and key, which are simply different objects, although related contextually. Humans are probabily more biased towards the semantics than the context."
   ]
  },
  {
   "cell_type": "code",
   "execution_count": 29,
   "metadata": {},
   "outputs": [
    {
     "name": "stdout",
     "output_type": "stream",
     "text": [
      "('vanish', 'disappear'), human_score: 9.8, vector_score: 0.9004\n"
     ]
    }
   ],
   "source": [
    "def get_most_similar_human():\n",
    "    df = pd.read_csv('SimLex-999/SimLex-999.txt', sep='\\t')[['word1', 'word2', 'SimLex999']]\n",
    "    human_score_max = float('-inf')\n",
    "    word1 = ''\n",
    "    word2 = ''\n",
    "    for word1, word2, score in df.values.tolist():\n",
    "        if score > human_score_max:\n",
    "            human_score_max = score\n",
    "            word_pair = (word1, word2)\n",
    "            similarity_score = vectors.similarity(word1, word2)\n",
    "            \n",
    "    print(f'{word_pair}, human_score: {human_score_max}, vector_score: {similarity_score:.4f}')\n",
    "\n",
    "get_most_similar_human()"
   ]
  },
  {
   "cell_type": "code",
   "execution_count": 30,
   "metadata": {},
   "outputs": [
    {
     "name": "stdout",
     "output_type": "stream",
     "text": [
      "('south', 'north'), human_score: 2.2, vector_score: 0.9675\n"
     ]
    }
   ],
   "source": [
    "def get_most_similar_vector():\n",
    "    df = pd.read_csv('SimLex-999/SimLex-999.txt', sep='\\t')[['word1', 'word2', 'SimLex999']]\n",
    "    vector_score_max = float('-inf')\n",
    "    word1 = ''\n",
    "    word2 = ''\n",
    "    for word1, word2, score in df.values.tolist():\n",
    "        similarity_score = vectors.similarity(word1, word2)\n",
    "        if similarity_score > vector_score_max:\n",
    "            vector_score_max = similarity_score\n",
    "            human_score = score\n",
    "            word_pair = (word1, word2)\n",
    "            \n",
    "    print(f'{word_pair}, human_score: {human_score}, vector_score: {vector_score_max:.4f}')\n",
    "\n",
    "get_most_similar_vector()"
   ]
  },
  {
   "cell_type": "markdown",
   "metadata": {
    "id": "5eKCrNSWBU2R"
   },
   "source": [
    "### 2.2: What is the most similar pair of words based on human judgement scorese and vector similarity? What are their respective values? Do the pairs match? Why or why not?"
   ]
  },
  {
   "cell_type": "code",
   "execution_count": 33,
   "metadata": {
    "id": "bvBPC3K6R22f"
   },
   "outputs": [],
   "source": [
    "most_similar_human_judgement = (\"vanish\", \"disappear\") # TODO replace `word1` and `word2` with the most similar pair based on human judgement\n",
    "most_similar_vector_similar = (\"south\", \"north\") # TODO replace `word1` and `word2` with the most similar pair based on vector similarity"
   ]
  },
  {
   "cell_type": "markdown",
   "metadata": {
    "id": "6ZYqfvetWO1X"
   },
   "source": [
    "No, the pairs do not match. The scores are (9.8, 0.9) and (2.2, 0.97). It makes sense that humans thought that \"vanish\" and \"disappear\" are really similar words, especially semantically, and did not think the same of \"south\" and \"north\" (and thus their human score is only 2.2), while vectors thought they were pretty similar words (probably because they both refer to directions and are used in similar contexts, e.g., news and directions). "
   ]
  },
  {
   "cell_type": "markdown",
   "metadata": {
    "id": "ehGg9xe0WO1Z"
   },
   "source": [
    "## Part 3: Vector semantics and idoims\n",
    "\n",
    "In this section of the lab we will see how well word2vec works for idioms and visualize the vectors in space.\n",
    "\n",
    "We will focus on two word idioms (e.g. \"eager beaver\"). \n",
    "\n",
    "There are two functions: \n",
    "- `get_idiom_similar` returns the top n most similar words for both words of the idoim\n",
    "- `plot_idiom_similar` performs principle componant analysis (PCA) to plot the vector embeddings of the idiom words and top n similar words in 2-dimensional space. \n",
    "\n",
    "Run the following code block to see \"eager beaver\" and similar words visualized in 2D space. "
   ]
  },
  {
   "cell_type": "code",
   "execution_count": 34,
   "metadata": {
    "id": "0HlKLABjWO1c"
   },
   "outputs": [
    {
     "data": {
      "image/png": "[encoded data removed]",
      "text/plain": [
       "<Figure size 720x720 with 1 Axes>"
      ]
     },
     "metadata": {
      "needs_background": "light"
     },
     "output_type": "display_data"
    }
   ],
   "source": [
    "from sklearn.decomposition import PCA\n",
    "import matplotlib.pyplot as plt\n",
    "import numpy as np\n",
    "\n",
    "def query_words(words):\n",
    "    queried = np.ones((len(words), compute_dimensionality(vectors)))\n",
    "    for i, word in enumerate(words):\n",
    "        queried[i,:] = vectors[word]\n",
    "    return queried\n",
    "\n",
    "def get_idiom_similar(vectors, word1, word2, topn=20): \n",
    "    word1_similar = [x[0] for x in vectors.most_similar(word1, topn = topn)]\n",
    "    word2_similar = [x[0] for x in vectors.most_similar(word2, topn = topn)] \n",
    "    return (word1_similar, word2_similar)\n",
    "\n",
    "def plot_idiom_similar(word1, word1_similar, word2, word2_similar):\n",
    "    words = [word1] + word1_similar + [word2] + word2_similar\n",
    "    X = query_words(words)\n",
    "    pca = PCA(n_components=2)\n",
    "    result = pca.fit_transform(X)\n",
    "\n",
    "    plt.figure(figsize=(10, 10))\n",
    "    s = len(eager_similar)+1\n",
    "    plt.scatter(result[:s,0], result[:s,1], label=word1 + \" similar\")\n",
    "    plt.scatter(result[s:,0], result[s:,1], label=word2 + \" similar\")\n",
    "    for i, word in enumerate(words):\n",
    "        plt.annotate(word, xy=(result[i, 0], result[i, 1]))\n",
    "    plt.xlabel(\"PC 1\")\n",
    "    plt.ylabel(\"PC 2\")\n",
    "    plt.legend()\n",
    "    plt.show()\n",
    "\n",
    "(eager_similar, beaver_similar) = get_idiom_similar(vectors, \"eager\", \"beaver\")\n",
    "plot_idiom_similar(\"eager\", eager_similar, \"beaver\", beaver_similar)"
   ]
  },
  {
   "cell_type": "markdown",
   "metadata": {
    "id": "UTQyuoWKWO1f"
   },
   "source": [
    "### 3.1: Why do you think the vector embedings for \"eager\" and \"beaver\" are far apart?"
   ]
  },
  {
   "cell_type": "markdown",
   "metadata": {
    "id": "biz0g_RxWO1g"
   },
   "source": [
    "They are very different words showcasing very different concepts. The idiom is also not super common. One is an animal and the other an adjective. Thus, the words closest to \"beaver\" are coyote, bobcat, rabbit, moose, etc., while those closest to \"eager\" are ready, willing, and even reluctant."
   ]
  },
  {
   "cell_type": "markdown",
   "metadata": {
    "id": "Ew91uagYWO1g"
   },
   "source": [
    "### 3.2: Run the same code for a different two word idiom of your choosing. What do you expect to happen? Is this any different than the \"eager beaver\" example? \n",
    "\n",
    "If you can't think of another two word idiom, ChatGPT is quite good at coming up with them."
   ]
  },
  {
   "cell_type": "code",
   "execution_count": 36,
   "metadata": {
    "id": "uyfSrpmDWO1m"
   },
   "outputs": [
    {
     "data": {
      "image/png": "[encoded data removed]",
      "text/plain": [
       "<Figure size 720x720 with 1 Axes>"
      ]
     },
     "metadata": {
      "needs_background": "light"
     },
     "output_type": "display_data"
    }
   ],
   "source": [
    "word1 = \"couch\" # TODO your word here\n",
    "word2 = \"potato\" # TODO your word here\n",
    "\n",
    "(word1_similar, word2_similar) = get_idiom_similar(vectors, word1, word2)\n",
    "plot_idiom_similar(word1, word1_similar, word2, word2_similar)"
   ]
  },
  {
   "cell_type": "markdown",
   "metadata": {
    "id": "wNEPtX0IWO1o"
   },
   "source": [
    "It makes sense because \"couch\" and \"potato\" are quite different words and thus quite separated in the vector space. The ones most similar to \"potato\" are other vegetables, e.g., beet, peas, onions, while the ones most similar to \"couch\" are other furniture such as pillow, recliner, sofas, futon, etc."
   ]
  },
  {
   "cell_type": "markdown",
   "metadata": {
    "id": "KOFbIcPKWO1s"
   },
   "source": [
    "This is the end of the assignment. \n",
    "\n",
    "However, if you want to explore visual representations of the word2vec embedings more check out http://projector.tensorflow.org/ for a fun visualization to play with. "
   ]
  },
  {
   "cell_type": "markdown",
   "metadata": {
    "id": "LYxFetuz_v_2"
   },
   "source": [
    "Pieces of this notebook was adapted with permission CIS 530 at UPenn from Spring 2018."
   ]
  }
 ],
 "metadata": {
  "colab": {
   "provenance": []
  },
  "kernelspec": {
   "display_name": "Python 3",
   "language": "python",
   "name": "python3"
  },
  "language_info": {
   "codemirror_mode": {
    "name": "ipython",
    "version": 3
   },
   "file_extension": ".py",
   "mimetype": "text/x-python",
   "name": "python",
   "nbconvert_exporter": "python",
   "pygments_lexer": "ipython3",
   "version": "3.6.9"
  }
 },
 "nbformat": 4,
 "nbformat_minor": 1
}
